{
  "nbformat": 4,
  "nbformat_minor": 0,
  "metadata": {
    "colab": {
      "provenance": [],
      "authorship_tag": "ABX9TyNhhgXAWGB/3yW4ld83YeWA",
      "include_colab_link": true
    },
    "kernelspec": {
      "name": "python3",
      "display_name": "Python 3"
    },
    "language_info": {
      "name": "python"
    }
  },
  "cells": [
    {
      "cell_type": "markdown",
      "metadata": {
        "id": "view-in-github",
        "colab_type": "text"
      },
      "source": [
        "<a href=\"https://colab.research.google.com/github/sainath0804/deep-learning/blob/main/exp1.ipynb\" target=\"_parent\"><img src=\"https://colab.research.google.com/assets/colab-badge.svg\" alt=\"Open In Colab\"/></a>"
      ]
    },
    {
      "cell_type": "code",
      "execution_count": 6,
      "metadata": {
        "colab": {
          "base_uri": "https://localhost:8080/"
        },
        "id": "e3t-hew50pdP",
        "outputId": "a220aa09-11e3-48a3-9832-2728401fa310"
      },
      "outputs": [
        {
          "output_type": "stream",
          "name": "stdout",
          "text": [
            "primes: tf.Tensor([ 2  3  5  7 11 13], shape=(6,), dtype=int32)\n",
            "ones: tf.Tensor([1 1 1 1 1 1], shape=(6,), dtype=int32)\n",
            "just_beyond_primes: tf.Tensor([ 3  4  6  8 12 14], shape=(6,), dtype=int32)\n",
            "primes_doubled: tf.Tensor([ 4  6 10 14 22 26], shape=(6,), dtype=int32)\n",
            "tf.Tensor(\n",
            "[[1 2]\n",
            " [3 4]\n",
            " [5 6]], shape=(3, 2), dtype=int32)\n",
            "tf.Tensor(\n",
            "[[ 1  2  3  4  5  6  7  8]\n",
            " [ 9 10 11 12 13 14 15 16]], shape=(2, 8), dtype=int32)\n",
            "\n",
            "value of some_matrix is:\n",
            " [[ 1  2  3  4  5  6  7  8]\n",
            " [ 9 10 11 12 13 14 15 16]]\n"
          ]
        }
      ],
      "source": [
        "from __future__ import print_function\n",
        "import tensorflow as tf\n",
        "\n",
        "\n",
        "import tensorflow as tf\n",
        "\n",
        "primes = tf.constant([2, 3, 5, 7, 11, 13], dtype=tf.int32)\n",
        "print(\"primes:\", primes)\n",
        "\n",
        "ones = tf.ones([6], dtype=tf.int32)\n",
        "print(\"ones:\", ones)\n",
        "\n",
        "just_beyond_primes = tf.add(primes, ones)\n",
        "print(\"just_beyond_primes:\", just_beyond_primes)\n",
        "\n",
        "twos = tf.constant([2, 2, 2, 2, 2, 2], dtype=tf.int32)\n",
        "primes_doubled = primes * twos\n",
        "print(\"primes_doubled:\", primes_doubled)\n",
        "\n",
        "some_matrix = tf.constant([[1, 2],[3, 4],[5, 6]], dtype=tf.int32)\n",
        "print(some_matrix)\n",
        "some_matrix = tf.constant([[1, 2,3, 4,5, 6,7,8],[9,10,11,12,13,14,15,16]], dtype=tf.int32)\n",
        "print(some_matrix)\n",
        "\n",
        "print(\"\\nvalue of some_matrix is:\\n\", some_matrix.numpy())\n"
      ]
    }
  ]
}
{
  "nbformat": 4,
  "nbformat_minor": 0,
  "metadata": {
    "colab": {
      "provenance": [],
      "authorship_tag": "ABX9TyOO4rrCZzNFwVsEbcKpJMe4",
      "include_colab_link": true
    },
    "kernelspec": {
      "name": "python3",
      "display_name": "Python 3"
    },
    "language_info": {
      "name": "python"
    }
  },
  "cells": [
    {
      "cell_type": "markdown",
      "metadata": {
        "id": "view-in-github",
        "colab_type": "text"
      },
      "source": [
        "<a href=\"https://colab.research.google.com/github/sainath0804/deep-learning/blob/main/exp3_binary_classification.ipynb\" target=\"_parent\"><img src=\"https://colab.research.google.com/assets/colab-badge.svg\" alt=\"Open In Colab\"/></a>"
      ]
    },
    {
      "cell_type": "code",
      "execution_count": 1,
      "metadata": {
        "colab": {
          "base_uri": "https://localhost:8080/"
        },
        "id": "OVzdtJ_w0TSL",
        "outputId": "3b7d0a28-6164-4e96-858f-6dc96e150f03"
      },
      "outputs": [
        {
          "output_type": "stream",
          "name": "stdout",
          "text": [
            "Epoch 1/10\n",
            "20/20 [==============================] - 4s 58ms/step - loss: 0.6603 - accuracy: 0.5375 - val_loss: 0.6550 - val_accuracy: 0.5375\n",
            "Epoch 2/10\n",
            "20/20 [==============================] - 0s 17ms/step - loss: 0.6424 - accuracy: 0.5625 - val_loss: 0.6412 - val_accuracy: 0.5562\n",
            "Epoch 3/10\n",
            "20/20 [==============================] - 0s 15ms/step - loss: 0.6266 - accuracy: 0.5828 - val_loss: 0.6279 - val_accuracy: 0.5688\n",
            "Epoch 4/10\n",
            "20/20 [==============================] - 0s 17ms/step - loss: 0.6106 - accuracy: 0.6141 - val_loss: 0.6137 - val_accuracy: 0.6000\n",
            "Epoch 5/10\n",
            "20/20 [==============================] - 1s 28ms/step - loss: 0.5936 - accuracy: 0.6453 - val_loss: 0.5982 - val_accuracy: 0.6250\n",
            "Epoch 6/10\n",
            "20/20 [==============================] - 0s 13ms/step - loss: 0.5748 - accuracy: 0.6938 - val_loss: 0.5812 - val_accuracy: 0.6562\n",
            "Epoch 7/10\n",
            "20/20 [==============================] - 0s 16ms/step - loss: 0.5545 - accuracy: 0.7328 - val_loss: 0.5626 - val_accuracy: 0.6875\n",
            "Epoch 8/10\n",
            "20/20 [==============================] - 0s 12ms/step - loss: 0.5331 - accuracy: 0.7688 - val_loss: 0.5425 - val_accuracy: 0.7437\n",
            "Epoch 9/10\n",
            "20/20 [==============================] - 0s 10ms/step - loss: 0.5098 - accuracy: 0.7875 - val_loss: 0.5222 - val_accuracy: 0.7688\n",
            "Epoch 10/10\n",
            "20/20 [==============================] - 0s 10ms/step - loss: 0.4863 - accuracy: 0.7984 - val_loss: 0.5003 - val_accuracy: 0.8000\n",
            "7/7 [==============================] - 0s 5ms/step\n",
            "Test accuracy: 0.8100\n"
          ]
        }
      ],
      "source": [
        "import numpy as np\n",
        "import tensorflow as tf\n",
        "from tensorflow.keras.models import Sequential\n",
        "from tensorflow.keras.layers import Dense,Input\n",
        "from sklearn.model_selection import train_test_split\n",
        "from sklearn.metrics import accuracy_score\n",
        "np.random.seed(32)\n",
        "X = np.random.rand(1000, 2)\n",
        "y = (X[:, 0] + X[:, 1] > 1).astype(int)\n",
        "X_train, X_test, y_train, y_test = train_test_split(X, y, test_size=0.2,\n",
        "random_state=42)\n",
        "model = Sequential([Input(shape=(2)),Dense(64, activation='relu'),Dense(1,\n",
        "activation='sigmoid')])\n",
        "model.compile(optimizer='adam',loss='binary_crossentropy',metrics=['accuracy'])\n",
        "model.fit(X_train, y_train, epochs=10, batch_size=32, validation_split=0.2)\n",
        "y_pred = model.predict(X_test)\n",
        "y_pred_binary = (y_pred > 0.5).astype(int)\n",
        "test_accuracy = accuracy_score(y_test, y_pred_binary)\n",
        "print(f\"Test accuracy: {test_accuracy:.4f}\")\n",
        "\n"
      ]
    }
  ]
}